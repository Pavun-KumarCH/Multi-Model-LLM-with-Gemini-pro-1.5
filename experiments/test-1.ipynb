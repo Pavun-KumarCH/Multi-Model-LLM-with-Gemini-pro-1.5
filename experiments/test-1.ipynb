{
 "cells": [
  {
   "cell_type": "code",
   "execution_count": 2,
   "metadata": {},
   "outputs": [
    {
     "name": "stderr",
     "output_type": "stream",
     "text": [
      "/Users/pavankumar/Projects/Multi-Model-LLM-with-Gemini-pro-1.5/multi/lib/python3.9/site-packages/tqdm/auto.py:21: TqdmWarning: IProgress not found. Please update jupyter and ipywidgets. See https://ipywidgets.readthedocs.io/en/stable/user_install.html\n",
      "  from .autonotebook import tqdm as notebook_tqdm\n"
     ]
    },
    {
     "data": {
      "text/plain": [
       "True"
      ]
     },
     "execution_count": 2,
     "metadata": {},
     "output_type": "execute_result"
    }
   ],
   "source": [
    "import os\n",
    "import google.generativeai as genai\n",
    "from dotenv import load_dotenv ,find_dotenv\n",
    "from IPython.display import Markdown, display\n",
    "import asyncio\n",
    "\n",
    "\n",
    "load_dotenv(find_dotenv())"
   ]
  },
  {
   "cell_type": "code",
   "execution_count": 3,
   "metadata": {},
   "outputs": [],
   "source": [
    "genai.configure(api_key = os.environ['GOOGLE_API_KEY'],\n",
    "                client_options = {\"api_endpoint\" : \"generativelanguage.googleapis.com\"})"
   ]
  },
  {
   "cell_type": "code",
   "execution_count": 4,
   "metadata": {},
   "outputs": [
    {
     "name": "stderr",
     "output_type": "stream",
     "text": [
      "WARNING: All log messages before absl::InitializeLog() is called are written to STDERR\n",
      "I0000 00:00:1723281773.996667  910554 check_gcp_environment_no_op.cc:29] ALTS: Platforms other than Linux and Windows are not supported\n"
     ]
    },
    {
     "name": "stdout",
     "output_type": "stream",
     "text": [
      "models/gemini-1.0-pro-latest\n",
      "models/gemini-1.0-pro\n",
      "models/gemini-pro\n",
      "models/gemini-1.0-pro-001\n",
      "models/gemini-1.0-pro-vision-latest\n",
      "models/gemini-pro-vision\n",
      "models/gemini-1.5-pro-latest\n",
      "models/gemini-1.5-pro-001\n",
      "models/gemini-1.5-pro\n",
      "models/gemini-1.5-pro-exp-0801\n",
      "models/gemini-1.5-flash-latest\n",
      "models/gemini-1.5-flash-001\n",
      "models/gemini-1.5-flash\n",
      "models/gemini-1.5-flash-001-tuning\n"
     ]
    }
   ],
   "source": [
    "for model in genai.list_models():\n",
    "    if 'generateContent' in model.supported_generation_methods:\n",
    "        print(model.name)"
   ]
  },
  {
   "cell_type": "code",
   "execution_count": 5,
   "metadata": {},
   "outputs": [],
   "source": [
    "from llama_index.multi_modal_llms.gemini import GeminiMultiModal\n",
    "from llama_index.core.multi_modal_llms.generic_utils import (load_image_urls,)"
   ]
  },
  {
   "cell_type": "code",
   "execution_count": 16,
   "metadata": {},
   "outputs": [],
   "source": [
    "image_urls = [\n",
    "    \"https://www.dropbox.com/scl/fi/v0l8a35fx62qnuoefdu6f/2019_Porsche_911_Carrera.jpg?rlkey=cjg374asg3u1u9deujhk2vsdo&raw=1\",\n",
    "    \"https://www.dropbox.com/scl/fi/rtwfjgd7zibm4rnd64mnl/Eiffel_tower-Paris.jpg?rlkey=q7cnku2vn47raxfqk878qzk0o&raw=1\"]\n",
    "image_documents = load_image_urls(image_urls)"
   ]
  },
  {
   "cell_type": "code",
   "execution_count": 17,
   "metadata": {},
   "outputs": [
    {
     "name": "stderr",
     "output_type": "stream",
     "text": [
      "I0000 00:00:1723281902.960958  910554 check_gcp_environment_no_op.cc:29] ALTS: Platforms other than Linux and Windows are not supported\n"
     ]
    }
   ],
   "source": [
    "gemini_pro_vision = GeminiMultiModal(model_name=\"models/gemini-1.5-flash-latest\")"
   ]
  },
  {
   "cell_type": "code",
   "execution_count": 8,
   "metadata": {},
   "outputs": [
    {
     "name": "stderr",
     "output_type": "stream",
     "text": [
      "I0000 00:00:1723281781.851132  910554 check_gcp_environment_no_op.cc:29] ALTS: Platforms other than Linux and Windows are not supported\n"
     ]
    }
   ],
   "source": [
    "response = gemini_pro_vision.complete(\n",
    "                                         prompt = \"What is the name of the vechile in image ?\",\n",
    "                                        image_documents = image_documents,\n",
    "                                        \n",
    "                                        )"
   ]
  },
  {
   "cell_type": "code",
   "execution_count": 9,
   "metadata": {},
   "outputs": [],
   "source": [
    "response = gemini_pro_vision.complete(\n",
    "    prompt=\"What is the name of the vehicle in the image and details?\",\n",
    "    image_documents=image_documents\n",
    ")\n"
   ]
  },
  {
   "cell_type": "code",
   "execution_count": 10,
   "metadata": {},
   "outputs": [
    {
     "name": "stdout",
     "output_type": "stream",
     "text": [
      "The vehicle in the image is a Porsche 911 (992 generation). It is a silver coupe with a black roof and black interior. The car has a license plate that reads \"B6 JKR\". It is parked on a grassy surface.\n"
     ]
    }
   ],
   "source": [
    "print(response)"
   ]
  },
  {
   "cell_type": "code",
   "execution_count": 11,
   "metadata": {},
   "outputs": [
    {
     "name": "stdout",
     "output_type": "stream",
     "text": [
      "The  vehicle in the image is a Porsche 911 (992 generation ). It is a silver coupe with a black roof and black interior. The car  is parked on a grassy field. The license plate number is B6 JKR. "
     ]
    }
   ],
   "source": [
    "stream_response = gemini_pro_vision.stream_complete(\n",
    "    prompt=\"What is the name of the vehicle in the image and details and location?\",\n",
    "    image_documents=image_documents\n",
    ")\n",
    "\n",
    "for r in stream_response:\n",
    "    print(r.text, end=' ')"
   ]
  },
  {
   "cell_type": "code",
   "execution_count": 12,
   "metadata": {},
   "outputs": [],
   "source": [
    "async def astream_response():\n",
    "    stream_response = await gemini_pro_vision.stream_complete(\n",
    "        prompt=\"What is the name of the vehicle in the image and details and location?\",\n",
    "        image_documents=image_documents\n",
    "    )\n",
    "    async for r in stream_response:\n",
    "        print(r.text, end=' ')\n"
   ]
  },
  {
   "cell_type": "code",
   "execution_count": 15,
   "metadata": {},
   "outputs": [
    {
     "data": {
      "text/plain": [
       "<coroutine object astream_response at 0x17510c840>"
      ]
     },
     "execution_count": 15,
     "metadata": {},
     "output_type": "execute_result"
    }
   ],
   "source": [
    "# asyncio.run(astream_response())\n",
    "# await astream_response()\n",
    "astream_response()"
   ]
  },
  {
   "cell_type": "code",
   "execution_count": 22,
   "metadata": {},
   "outputs": [],
   "source": [
    "def acomplete_respose():\n",
    "    acomplete_resonse =  gemini_pro_vision.acomplete(\n",
    "        prompt=\"Give me more context on the images. How are they related?\",\n",
    "        image_documents=image_documents\n",
    "    )\n",
    "\n",
    "    print(acomplete_resonse)"
   ]
  },
  {
   "cell_type": "code",
   "execution_count": 23,
   "metadata": {},
   "outputs": [
    {
     "name": "stdout",
     "output_type": "stream",
     "text": [
      "<coroutine object Dispatcher.span.<locals>.async_wrapper at 0x175271ec0>\n"
     ]
    },
    {
     "name": "stderr",
     "output_type": "stream",
     "text": [
      "/var/folders/gn/5xr0y8n517gf944hllh567fm0000gn/T/ipykernel_36307/759809198.py:1: RuntimeWarning: coroutine 'Dispatcher.span.<locals>.async_wrapper' was never awaited\n",
      "  acomplete_respose()\n",
      "RuntimeWarning: Enable tracemalloc to get the object allocation traceback\n"
     ]
    }
   ],
   "source": [
    "acomplete_respose()"
   ]
  }
 ],
 "metadata": {
  "kernelspec": {
   "display_name": "multi-gpt",
   "language": "python",
   "name": "python3"
  },
  "language_info": {
   "codemirror_mode": {
    "name": "ipython",
    "version": 3
   },
   "file_extension": ".py",
   "mimetype": "text/x-python",
   "name": "python",
   "nbconvert_exporter": "python",
   "pygments_lexer": "ipython3",
   "version": "3.9.19"
  }
 },
 "nbformat": 4,
 "nbformat_minor": 2
}
